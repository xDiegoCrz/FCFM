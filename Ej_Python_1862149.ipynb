{
  "nbformat": 4,
  "nbformat_minor": 0,
  "metadata": {
    "colab": {
      "name": "phyton.ipynb",
      "provenance": [],
      "authorship_tag": "ABX9TyM+vB8LjQHB6IQF6IbgIljG",
      "include_colab_link": true
    },
    "kernelspec": {
      "name": "python3",
      "display_name": "Python 3"
    },
    "language_info": {
      "name": "python"
    }
  },
  "cells": [
    {
      "cell_type": "markdown",
      "metadata": {
        "id": "view-in-github",
        "colab_type": "text"
      },
      "source": [
        "<a href=\"https://colab.research.google.com/github/xDiegoCrz/FCFM/blob/main/phyton.ipynb\" target=\"_parent\"><img src=\"https://colab.research.google.com/assets/colab-badge.svg\" alt=\"Open In Colab\"/></a>"
      ]
    },
    {
      "cell_type": "markdown",
      "metadata": {
        "id": "dof39ZWC6iU_"
      },
      "source": [
        "Problema 1"
      ]
    },
    {
      "cell_type": "code",
      "metadata": {
        "id": "nWpkSl9EvtXV"
      },
      "source": [
        "#1\n",
        "print(\"Hola Mundo\")\n",
        "\n",
        "mat=1862149\n",
        "nom=\"Diego Adrian Cruz Martinez\"\n",
        "\n",
        "\n"
      ],
      "execution_count": null,
      "outputs": []
    },
    {
      "cell_type": "markdown",
      "metadata": {
        "id": "_4cUAIgd6ozz"
      },
      "source": [
        "Problema 2\n"
      ]
    },
    {
      "cell_type": "code",
      "metadata": {
        "id": "u2awZBvz6rqw"
      },
      "source": [
        "#2\n",
        "print(nom,mat)\n",
        "\n",
        "n1=float(input(\"Ingrese un numero \"))\n",
        "n2=float(input(\"Ingrese otro numero \"))\n",
        "\n",
        "sum=n1+n2\n",
        "res=n1-n2\n",
        "mul=n1*n2\n",
        "div=n1/n2\n",
        "ex=n1**n2\n",
        "\n",
        "print(\"suma\", sum)\n",
        "print(\"resta\",res)\n",
        "print(\"multiplicacion\",mul)\n",
        "print(\"divicion\",div)\n",
        "print(\"exponente\",ex)"
      ],
      "execution_count": null,
      "outputs": []
    },
    {
      "cell_type": "markdown",
      "metadata": {
        "id": "8Baz3Esj7ugh"
      },
      "source": [
        "Problema 3"
      ]
    },
    {
      "cell_type": "code",
      "metadata": {
        "id": "KfUZ0K_T71Pr"
      },
      "source": [
        "#3\n",
        "i=1\n",
        "A=[None]*10\n",
        "while i <= 10:\n",
        "     A[i-1] = i*3\n",
        "     print (3,\" * \", i , \" = \", A[i-1])\n",
        "     i=i+1\n",
        "\n",
        "i=1\n",
        "suma=0\n",
        "while i <=10:\n",
        "    suma=A[i-1]+suma\n",
        "    i=1+i\n",
        "\n",
        "print(\"La suma del arreglo es \", suma)"
      ],
      "execution_count": null,
      "outputs": []
    },
    {
      "cell_type": "markdown",
      "metadata": {
        "id": "q4NCBNAmsTXK"
      },
      "source": [
        "Problema 4"
      ]
    },
    {
      "cell_type": "code",
      "metadata": {
        "id": "pgcJj3ZmsVFJ"
      },
      "source": [
        "#4\n",
        "n=int(input(\"Ingrese un numero entero \"))\n",
        "\n",
        "if n%2==0:\n",
        "  print(\"El numero \",n,\" es un numero par\")\n",
        "else:\n",
        "  print(\"El numero \",n,\" es un numero inpar\")\n",
        "\n",
        "aux=0\n",
        "for i in range(1,n):\n",
        "  if n%(i)!=0:\n",
        "    aux=aux+1\n",
        "\n",
        "\n",
        "if aux==n-2:\n",
        "  print(\"El numero \", n , \"es primo\")\n",
        "else:\n",
        "   print(\"El numero \", n , \"no es primo\")\n",
        "  \n",
        "     \n",
        "      \n"
      ],
      "execution_count": null,
      "outputs": []
    },
    {
      "cell_type": "markdown",
      "metadata": {
        "id": "VZtFT_gOw8N-"
      },
      "source": [
        "Porblema 5"
      ]
    },
    {
      "cell_type": "code",
      "metadata": {
        "id": "IHGzJu9Dw6_R"
      },
      "source": [
        "#5\n",
        "# https://estadisticamente.com/programar-calculadora-python/\n",
        "class cal:\n",
        "    def sumar(x, y):\n",
        "        print ('El resultado de la suma de  ' +str(x) + ' y '+str(y)+ ' es igual a: '+str((x+y)) )\n",
        "    def restar(x, y):\n",
        "        print ('El resultado de la resta de  '+str(x) + ' y '+str(y)+ ' es igual a: '+str((x-y)) )\n",
        "    def multiplicar(x, y):\n",
        "        print ('El resultado de la multiplicar de '+str(x) + ' y '+str(y)+ ' es igual a: '+str((x*y)) )\n",
        "    def dividir(x, y):\n",
        "        print ('El resultado de dividir  '+str(x) + ' y '+str(y)+ ' es igual a: '+str((x/y)) )\n",
        "    def exponente(x, y):\n",
        "        print ('El resultado de elevar a una potencia  '+str(x) + ' y ' +str(y)+ ' es igual a: '+str((x**y)) )\n",
        "\n",
        "def menu():\n",
        "    print(\"\"\"\n",
        "    ¿Qué quieres hacer?\n",
        "    1) Sumar los números\n",
        "    2) Restar los números\n",
        "    3) Multiplicar los números\n",
        "    4) Dividir los números\n",
        "    5) El exponente de los números \n",
        "    6) Salir\n",
        "    \"\"\")\n",
        "    return int(input('Introduce una opcion: '))\n",
        "    \n",
        "op=1\n",
        "while op==1:\n",
        "\n",
        "    opcion= menu()\n",
        "    while opcion>6:\n",
        "      print(\"Opcion no valida\")\n",
        "      opcion= menu()\n",
        "      \n",
        "\n",
        "    if(opcion==6):\n",
        "        break\n",
        "    \n",
        "    else:\n",
        "        num1= int(input('Ingresa un numero: '))\n",
        "        num2= int(input('Ingresa otro numero: '))\n",
        "        \n",
        "        if(opcion==1):\n",
        "            cal.sumar(num1, num2)\n",
        "        elif(opcion==2):\n",
        "            cal.restar(num1, num2)\n",
        "        elif(opcion==3):\n",
        "            cal.multiplicar(num1, num2)\n",
        "        elif(opcion==4):\n",
        "            cal.dividir(num1, num2)\n",
        "        elif(opcion==5):\n",
        "            cal.exponente(num1, num2)\n",
        "    op=0       \n",
        "    while op>2 or op<1:\n",
        "     op=int(input(\"\"\"\n",
        "    Deseas hacer otro calculo? 1[si]   2 [no]\"\"\"))\n",
        "    "
      ],
      "execution_count": null,
      "outputs": []
    },
    {
      "cell_type": "markdown",
      "metadata": {
        "id": "XNZZfDzH-R3l"
      },
      "source": [
        "# Tuplas\n",
        "Crear una variable flotante, integer, boleana y compleja e imprimir el tipo de variable que es."
      ]
    },
    {
      "cell_type": "code",
      "metadata": {
        "colab": {
          "base_uri": "https://localhost:8080/"
        },
        "id": "VlR86tfQ-ZQT",
        "outputId": "37bf63c2-44cd-4687-ca44-0094459e8f4e"
      },
      "source": [
        "#tuplas\n",
        "x=86.79 \n",
        "y=751 \n",
        "z=True \n",
        "imaginario=657+4j \n",
        "\n",
        "\n",
        "#imprimir los tipos \n",
        "print (\"La variable \",x, \" es de tipo\",type(x))\n",
        "print(\"La variable \",y, \" es de tipo\", type(y))\n",
        "print(\"La variable \",z,\" es de tipo\",type(z))\n",
        "print(\"La variable \", imaginario, \" es de tipo\", type(imaginario))\n"
      ],
      "execution_count": 135,
      "outputs": [
        {
          "output_type": "stream",
          "text": [
            "La variable  86.79  es de tipo <class 'float'>\n",
            "La variable  751  es de tipo <class 'int'>\n",
            "La variable  True  es de tipo <class 'bool'>\n",
            "La variable  (657+4j)  es de tipo <class 'complex'>\n"
          ],
          "name": "stdout"
        }
      ]
    },
    {
      "cell_type": "markdown",
      "metadata": {
        "id": "7bvrMfMTA-xc"
      },
      "source": [
        "Crear una tupla con valores enteros imprimir el primer y ultimo valor."
      ]
    },
    {
      "cell_type": "code",
      "metadata": {
        "colab": {
          "base_uri": "https://localhost:8080/"
        },
        "id": "eUOPyn3eBGwW",
        "outputId": "b27b67ac-d7e5-47a6-bb51-bdc78b93f483"
      },
      "source": [
        "tupla = (1,2,3,4,5)\n",
        "print(\"El primer valor de la tupla es:\",tupla[0], \"y el último es:\",tupla[4])"
      ],
      "execution_count": 138,
      "outputs": [
        {
          "output_type": "stream",
          "text": [
            "El primer valor de la tupla es: 1 y el último es: 5\n"
          ],
          "name": "stdout"
        }
      ]
    },
    {
      "cell_type": "markdown",
      "metadata": {
        "id": "MNPCZ1uqBRf5"
      },
      "source": [
        "Añadir 3 valores de string a la tupla."
      ]
    },
    {
      "cell_type": "code",
      "metadata": {
        "id": "moctiu60BRF8"
      },
      "source": [
        "#https://www.it-swarm-es.com/es/python/como-agregar-valor-una-tupla/972119161/\n",
        "print(\"¿Que valores string deseas añadir a la tupla\")\n",
        "v1= str(input('Ingresa el primer valor: '))\n",
        "v2= str(input('Ingresa el segundo valor: '))\n",
        "v3= str(input('Ingresa el tercer valor: '))\n",
        "\n",
        "tupla=(1,2,3,4,5)\n",
        "t2=(v1,v2,v3)\n",
        "tupla=tupla+t2\n",
        "print(tupla)"
      ],
      "execution_count": null,
      "outputs": []
    },
    {
      "cell_type": "markdown",
      "metadata": {
        "id": "dNEtOtUKCUmm"
      },
      "source": [
        "Verificar si una variable existe dentro de la tupla."
      ]
    },
    {
      "cell_type": "code",
      "metadata": {
        "id": "vPhs5B2aCXfz"
      },
      "source": [
        "tupla=(1,2,3,4,5)\n",
        "x=int(input(\"Ingrese el numerp a buscar:\"))\n",
        "if ((x in tupla)==True):\n",
        "    print(\"su dato fue encontrado en la tupla\")\n",
        "else:\n",
        "    print(\"su dato no fue encontrado en la tupla\")"
      ],
      "execution_count": null,
      "outputs": []
    },
    {
      "cell_type": "markdown",
      "metadata": {
        "id": "nWyCDixtCw7Y"
      },
      "source": [
        "# Listas\n",
        "Crear una lista con 40 elementos aleatorios enteros."
      ]
    },
    {
      "cell_type": "code",
      "metadata": {
        "id": "xXngY818C1LX"
      },
      "source": [
        "import random\n",
        "lista=[random.randint(0,999) for i in range(40)]\n",
        "\n",
        "print(\"Los 40 elementos de la lista son:\",lista)"
      ],
      "execution_count": null,
      "outputs": []
    },
    {
      "cell_type": "markdown",
      "metadata": {
        "id": "nx9sttQADShx"
      },
      "source": [
        "Con una funcion (def) crear dos listas nuevas a partir de la lista creada por numeros aleatorios, en la cual en una esten los elementos pares, y en la otra los elementos impares."
      ]
    },
    {
      "cell_type": "code",
      "metadata": {
        "id": "C24bfUJFDU_S"
      },
      "source": [
        "lista=[random.randint(0,999) for i in range(40)]\n",
        "l1=[]\n",
        "l2=[]\n",
        "def listas():\n",
        "    for i in range(40):\n",
        "        h=lista[i]%2\n",
        "        if h==0:\n",
        "            l1.append(lista[i])\n",
        "        else:\n",
        "            l2.append(lista[i])\n",
        "listas()\n",
        "print(\"La lista de numeros pares aleatorios es:\",l1)\n",
        "print(\"La lista de numeros impares aleatorios es:\",l2,\"\\n\")\n",
        "  #Crear dos variables con la longitud de ambas listas nuevas e imprimir las variables.\n",
        "long1=len(l1)\n",
        "long2=len(l2)\n",
        "print(\"la longitud de la lista 1 es:\",long1)\n",
        "print(\"la longitud de la lista 2 es:\", long2,\"\\n\")\n",
        "\n",
        "#Ordenar los elementos de la lista par de mayor a menor, y los de la lista impar de menor a mayor.\n",
        "l1.sort(reverse=True)\n",
        "l2.sort()\n",
        "print(\"Lista par:\", l1)\n",
        "print(\"Lista impar\", l2,\"\\n\")\n",
        "\n",
        "#Utilizar al menos cuatro de las funciones de listas en python en la lista original de 40 elementos\n",
        "\n",
        "print(\"Longitud de la lista \", len(lista))\n",
        "print(\"minimo de la lista \", min(lista))\n",
        "print(\"maximo de la lista \", max(lista))\n",
        "lista.append(\"nuevo\")\n",
        "print(\"lista con nuevo elemento \",lista )"
      ],
      "execution_count": null,
      "outputs": []
    },
    {
      "cell_type": "markdown",
      "metadata": {
        "id": "wtkxRCTMG7zH"
      },
      "source": [
        "# Diccionarios\n",
        "Crear un diccionario de 6 personas que conozcas con su primer nombre y su edad."
      ]
    },
    {
      "cell_type": "code",
      "metadata": {
        "id": "lbeEZle7HBUL"
      },
      "source": [
        "dic={'Farid':'20','Gabriela':'28','Mario':'20','Diana':'22','Mauricio':'20','Melany':'21'}\n",
        "print(dic)"
      ],
      "execution_count": null,
      "outputs": []
    },
    {
      "cell_type": "markdown",
      "metadata": {
        "id": "hGthIMlXHwjt"
      },
      "source": [
        "Crear una lista con los valores de la edad y reacomodar la lista de menor a mayor valor."
      ]
    },
    {
      "cell_type": "code",
      "metadata": {
        "colab": {
          "base_uri": "https://localhost:8080/"
        },
        "id": "5-nUWSWiHyrY",
        "outputId": "04bb4b96-487b-4ba5-b532-b3bc79233bae"
      },
      "source": [
        "dic={'Farid':20,'Gabriela':28,'Mario':20,'Diana':22,'Mauricio':20,'Melany':21}\n",
        "edad=[]\n",
        "\n",
        "for i in dic:\n",
        "    if type(dic[i]) == type(int()):\n",
        "        edad.append(dic[i])\n",
        "edad.sort()\n",
        "print(\"Las edades son:\",edad)"
      ],
      "execution_count": 212,
      "outputs": [
        {
          "output_type": "stream",
          "text": [
            "Las edades son: [20, 20, 20, 21, 22, 28]\n"
          ],
          "name": "stdout"
        }
      ]
    },
    {
      "cell_type": "markdown",
      "metadata": {
        "id": "My5k_PkmIQjU"
      },
      "source": [
        "Usando el diccionario y un loop, imprimir solo los nombres."
      ]
    },
    {
      "cell_type": "code",
      "metadata": {
        "id": "F3CCH7cIIgfe"
      },
      "source": [
        "dic={'Farid':20,'Gabriela':28,'Mario':20,'Diana':22,'Mauricio':20,'Melany':21}\n",
        "Nombres=dic.keys()\n",
        "\n",
        "print(\"los nombres son \",Nombres)"
      ],
      "execution_count": null,
      "outputs": []
    },
    {
      "cell_type": "markdown",
      "metadata": {
        "id": "JQwM0fiJLX2b"
      },
      "source": [
        "Añadir dos personas nuevas a tu diccionario, incluyendo edad."
      ]
    },
    {
      "cell_type": "code",
      "metadata": {
        "id": "CgP_t3o2LXYa"
      },
      "source": [
        "dic={'Farid':20,'Gabriela':28,'Mario':20,'Diana':22,'Mauricio':20,'Melany':21}\n",
        "dic['Juan']=21\n",
        "dic['Ana']=22\n",
        "print(dic)\n"
      ],
      "execution_count": null,
      "outputs": []
    },
    {
      "cell_type": "markdown",
      "metadata": {
        "id": "oF5KZ-yRLuNI"
      },
      "source": [
        "# Sets\n",
        "Crea un set con 100 numeros aleatorios enteros del 1 al 25."
      ]
    },
    {
      "cell_type": "code",
      "metadata": {
        "id": "TKCElHQbWAcT"
      },
      "source": [
        "import random\n",
        "st1=set()\n",
        "\n",
        "for i in range(100):\n",
        "    st1.add(random.randrange(1,26))\n",
        "\n",
        "print(st1)\n",
        "\n",
        "#2\n",
        "print(len(st1))\n",
        "\n",
        "#3\n",
        "op=[0]*5\n",
        "\n",
        "for i in range(5):\n",
        "    op[i]=random.randrange(1,11)\n",
        "    if op[i] in st1:\n",
        "        print(\"El valor %d aparece en el set inicial\"%op[i])\n",
        "    else:\n",
        "        print(\"El valor %d no aparece en el set inicial\"%op[i])"
      ],
      "execution_count": null,
      "outputs": []
    }
  ]
}
